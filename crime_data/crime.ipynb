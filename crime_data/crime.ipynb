{
 "cells": [
  {
   "cell_type": "markdown",
   "metadata": {},
   "source": [
    "# What Dis"
   ]
  },
  {
   "cell_type": "markdown",
   "metadata": {},
   "source": [
    "Consolidated crime data, curated from the FBI and city-data.com"
   ]
  },
  {
   "cell_type": "markdown",
   "metadata": {},
   "source": [
    "# Imports and Definitions"
   ]
  },
  {
   "cell_type": "code",
   "execution_count": 1,
   "metadata": {},
   "outputs": [],
   "source": [
    "import pandas as pd\n",
    "import numpy as np"
   ]
  },
  {
   "cell_type": "code",
   "execution_count": 2,
   "metadata": {},
   "outputs": [],
   "source": [
    "abbreviations = {\n",
    "    \"Alabama\"       : \"AL\",\n",
    "    \"Alaska\"        : \"AK\",\n",
    "    \"Arizona\"       : \"AZ\",\n",
    "    \"Arkansas\"      : \"AR\",\n",
    "    \"California\"    : \"CA\",\n",
    "    \"Colorado\"      : \"CO\",\n",
    "    \"Connecticut\"   : \"CT\",\n",
    "    \"Delaware\"      : \"DE\",\n",
    "    \"Florida\"       : \"FL\",\n",
    "    \"Georgia\"       : \"GA\",\n",
    "    \"Hawaii\"        : \"HI\",\n",
    "    \"Idaho\"         : \"ID\",\n",
    "    \"Illinois\"      : \"IL\",\n",
    "    \"Indiana\"       : \"IN\",\n",
    "    \"Iowa\"          : \"IA\",\n",
    "    \"Kansas\"        : \"KS\",\n",
    "    \"Kentucky\"      : \"KY\",\n",
    "    \"Louisiana\"     : \"LA\",\n",
    "    \"Maine\"         : \"ME\",\n",
    "    \"Maryland\"      : \"MD\",\n",
    "    \"Massachusetts\" : \"MA\",\n",
    "    \"Michigan\"      : \"MI\",\n",
    "    \"Minnesota\"     : \"MN\",\n",
    "    \"Mississippi\"   : \"MS\",\n",
    "    \"Missouri\"      : \"MO\",\n",
    "    \"Montana\"       : \"MT\",\n",
    "    \"Nebraska\"      : \"NE\",\n",
    "    \"Nevada\"        : \"NV\",\n",
    "    \"New Hampshire\" : \"NH\",\n",
    "    \"New Jersey\"    : \"NJ\",\n",
    "    \"New Mexico\"    : \"NM\",\n",
    "    \"New York\"      : \"NY\",\n",
    "    \"North Carolina\": \"NC\",\n",
    "    \"North Dakota\"  : \"ND\",\n",
    "    \"Ohio\"          : \"OH\",\n",
    "    \"Oklahoma\"      : \"OK\",\n",
    "    \"Oregon\"        : \"OR\",\n",
    "    \"Pennsylvania\"  : \"PA\",\n",
    "    \"Rhode Island\"  : \"RI\",\n",
    "    \"South Carolina\": \"SC\",\n",
    "    \"South Dakota\"  : \"SD\",\n",
    "    \"Tennessee\"     : \"TN\",\n",
    "    \"Texas\"         : \"TX\",\n",
    "    \"Utah\"          : \"UT\",\n",
    "    \"Vermont\"       : \"VT\",\n",
    "    \"Virginia\"      : \"VA\",\n",
    "    \"Washington\"    : \"WA\",\n",
    "    \"West Virginia\" : \"WV\",\n",
    "    \"Wisconsin\"     : \"WI\",\n",
    "    \"Wyoming\"       : \"WY\",\n",
    "}"
   ]
  },
  {
   "cell_type": "code",
   "execution_count": 3,
   "metadata": {},
   "outputs": [],
   "source": [
    "places = {\n",
    "    \"Alabama\": [\n",
    "        \"Birmingham\",\n",
    "        \"Montgomery\",],\n",
    "    \"Alaska\": [\n",
    "        \"Anchorage\",\n",
    "        \"Juneau\",],\n",
    "    \"Arizona\": [\n",
    "        \"Phoenix\",\n",
    "        \"Tucson\",],\n",
    "    \"Arkansas\": [\n",
    "        \"Little Rock\",\n",
    "        \"Fort Smith\",],\n",
    "    \"California\": [\n",
    "        \"San Diego\",\n",
    "        \"Los Angeles\",\n",
    "        \"Sacramento\",],\n",
    "    \"Colorado\": [\n",
    "        \"Denver\",\n",
    "        \"Colorado Springs\",\n",
    "        \"Aurora\",],\n",
    "    \"Connecticut\": [\n",
    "        \"Bridgeport\",\n",
    "        \"Hartford\",],\n",
    "    \"Delaware\": [\n",
    "        \"Dover\",\n",
    "        \"Wilmington\",],\n",
    "    \"Florida\": [\n",
    "        \"Jacksonville\",\n",
    "        \"Miami\",\n",
    "        \"Tallahassee\",],\n",
    "    \"Georgia\": [\n",
    "        \"Atlanta\",\n",
    "        \"Savannah\",],\n",
    "    \"Hawaii\": [\n",
    "        \"Honolulu\",\n",
    "        \"Kauai\",\n",
    "        \"Maui\",],\n",
    "    \"Idaho\": [\n",
    "        \"Boise\",\n",
    "        \"Meridian\",],\n",
    "    \"Illinois\": [\n",
    "        \"Chicago\",\n",
    "        \"Springfield\",],\n",
    "    \"Indiana\": [\n",
    "        \"Fort Wayne\",\n",
    "        \"Indianapolis\",],\n",
    "    \"Iowa\": [\n",
    "        \"Cedar Rapids\",\n",
    "        \"Des Moines\",],\n",
    "    \"Kansas\": [\n",
    "        \"Topeka\",\n",
    "        \"Wichita\",],\n",
    "    \"Kentucky\": [\n",
    "        \"Frankfort\",\n",
    "        \"Louisville\",],\n",
    "    \"Louisiana\": [\n",
    "        \"Baton Rouge\",\n",
    "        \"New Orleans\",],\n",
    "    \"Maine\": [\n",
    "        \"Augusta\",\n",
    "        \"Portland\",],\n",
    "    \"Maryland\": [\n",
    "        \"Baltimore\",\n",
    "        \"Annapolis\",],\n",
    "    \"Massachusetts\": [\n",
    "        \"Boston\",\n",
    "        \"Worcester\",],\n",
    "    \"Michigan\": [\n",
    "        \"Detroit\",\n",
    "        \"Lansing\",],\n",
    "    \"Minnesota\": [\n",
    "        \"Minneapolis\",\n",
    "        \"Saint Paul\",],\n",
    "    \"Mississippi\": [\n",
    "        \"Jackson\",\n",
    "        \"Gulfport\",],\n",
    "    \"Missouri\": [\n",
    "        \"Kansas City\",\n",
    "        \"Jefferson City\",],\n",
    "    \"Montana\": [\n",
    "        \"Billings\",\n",
    "        \"Helena\",],\n",
    "    \"Nebraska\": [\n",
    "        \"Lincoln\",\n",
    "        \"Omaha\",],\n",
    "    \"Nevada\": [\n",
    "        \"Carson City\",\n",
    "        \"Las Vegas\",\n",
    "        \"Reno\",],\n",
    "    \"New Hampshire\": [\n",
    "        \"Concord\",\n",
    "        \"Manchester\",],\n",
    "    \"New Jersey\": [\n",
    "        \"Newark\",\n",
    "        \"Trenton\",],\n",
    "    \"New Mexico\": [\n",
    "        \"Albuquerque\",\n",
    "        \"Santa Fe\",],\n",
    "    \"New York\": [\n",
    "        \"Albany\",\n",
    "        \"New York City\",],\n",
    "    \"North Carolina\": [\n",
    "        \"Charlotte\",\n",
    "        \"Raleigh\",],\n",
    "    \"North Dakota\": [\n",
    "        \"Bismarck\",\n",
    "        \"Fargo\",],\n",
    "    \"Ohio\": [\n",
    "        \"Columbus\",\n",
    "        \"Cleveland\",],\n",
    "    \"Oklahoma\": [\n",
    "        \"Oklahoma City\",\n",
    "        \"Tulsa\",],\n",
    "    \"Oregon\": [\n",
    "        \"Portland\",\n",
    "        \"Salem\",],\n",
    "    \"Pennsylvania\": [\n",
    "        \"Harrisburg\",\n",
    "        \"Philadelphia\",],\n",
    "    \"Rhode Island\": [\n",
    "        \"Providence\",\n",
    "        \"Warwick\",],\n",
    "    \"South Carolina\": [\n",
    "        \"Charleston\",\n",
    "        \"Columbia\",],\n",
    "    \"South Dakota\": [\n",
    "        \"Pierre\",\n",
    "        \"Sioux Falls\",],\n",
    "    \"Tennessee\": [\n",
    "        \"Nashville\",\n",
    "        \"Memphis\",],\n",
    "    \"Texas\": [\n",
    "        \"Austin\",\n",
    "        \"Houston\",],\n",
    "    \"Utah\": [\n",
    "        \"Salt Lake City\",\n",
    "        \"West Valley City\",],\n",
    "    \"Vermont\": [\n",
    "        \"Burlington\",\n",
    "        \"Montpelier\",],\n",
    "    \"Virginia\": [\n",
    "        \"Richmond\",\n",
    "        \"Virginia Beach\",],\n",
    "    \"Washington\": [\n",
    "        \"Olympia\",\n",
    "        \"Seattle\",],\n",
    "    \"West Virginia\": [\n",
    "        \"Charleston\",\n",
    "        \"Huntington\",],\n",
    "    \"Wisconsin\": [\n",
    "        \"Madison\",\n",
    "        \"Milwaukee\",],\n",
    "    \"Wyoming\": [\n",
    "        \"Casper\",\n",
    "        \"Cheyenne\",],\n",
    "}"
   ]
  },
  {
   "cell_type": "code",
   "execution_count": 4,
   "metadata": {},
   "outputs": [],
   "source": [
    "years = list(range(2010, 2016+1))"
   ]
  },
  {
   "cell_type": "code",
   "execution_count": 5,
   "metadata": {},
   "outputs": [],
   "source": [
    "missing_places = { # places missing from citydata\n",
    "    \"Hawaii\": [\n",
    "        \"Honolulu\",\n",
    "        \"Kauai\",\n",
    "        \"Maui\",],\n",
    "    \"Kentucky\": [\n",
    "        \"Louisville\",], # not actually missing, but has like no data\n",
    "    \"Nevada\": [\n",
    "        \"Carson City\",],\n",
    "    \"Tennessee\": [\n",
    "        \"Nashville\",],\n",
    "    \"Utah\": [\n",
    "        \"West Valley City\",],\n",
    "}"
   ]
  },
  {
   "cell_type": "code",
   "execution_count": 6,
   "metadata": {},
   "outputs": [],
   "source": [
    "corrections = { # alternative names in fbi\n",
    "    \"Charlotte\": \"charlotte-mecklenburg\",\n",
    "    \"Las Vegas\": \"las vegas metropolitan police department\",\n",
    "    \"Louisville\": \"louisville metro\",\n",
    "    \"Savannah\": \"savannah-chatham metropolitan\",\n",
    "    \"West Valley City\": \"west valley\",\n",
    "    \"New York City\": \"new york\"\n",
    "}"
   ]
  },
  {
   "cell_type": "code",
   "execution_count": 7,
   "metadata": {},
   "outputs": [],
   "source": [
    "citydata = pd.read_pickle(\"citydata_crime_data.pkl\")"
   ]
  },
  {
   "cell_type": "code",
   "execution_count": 8,
   "metadata": {},
   "outputs": [],
   "source": [
    "fbi = pd.read_pickle(\"fbi_crime_data.pkl\")"
   ]
  },
  {
   "cell_type": "markdown",
   "metadata": {},
   "source": [
    "# Processing"
   ]
  },
  {
   "cell_type": "code",
   "execution_count": 9,
   "metadata": {},
   "outputs": [],
   "source": [
    "data = citydata.copy()"
   ]
  },
  {
   "cell_type": "code",
   "execution_count": 10,
   "metadata": {},
   "outputs": [],
   "source": [
    "# add populations\n",
    "data['population'] = np.nan\n",
    "for state, city, year in zip(data.index.get_level_values('state'),\n",
    "                             data.index.get_level_values('city'),\n",
    "                             data.index.get_level_values('year')):\n",
    "    try:\n",
    "        fbi.loc[state.lower(), (corrections[city] if city in corrections else city).lower(), year]\n",
    "    except KeyError:\n",
    "        continue\n",
    "    data.loc[state, city, year].loc['population'] = \\\n",
    "            fbi.loc[state.lower(),\n",
    "                    (corrections[city] if city in corrections else city).lower(),\n",
    "                    year] \\\n",
    "                   .loc['population']"
   ]
  },
  {
   "cell_type": "code",
   "execution_count": 11,
   "metadata": {},
   "outputs": [],
   "source": [
    "# set `fbi` column names to match `data`\n",
    "fbi.rename({\"aggravated assault\": \"assault\",\n",
    "            \"forcible rape\": \"rape\",\n",
    "            \"larceny or theft\": \"theft\",\n",
    "            \"motor vehicle theft\": \"vehicle theft\"},\n",
    "           axis='columns', inplace=True)\n",
    "# rearrange `fbi` columns to match `data`\n",
    "fbi = fbi[data.columns]"
   ]
  },
  {
   "cell_type": "code",
   "execution_count": 12,
   "metadata": {},
   "outputs": [],
   "source": [
    "# unfold multiindex to work with\n",
    "col_order = data.columns\n",
    "data.reset_index(inplace=True)"
   ]
  },
  {
   "cell_type": "code",
   "execution_count": 13,
   "metadata": {
    "scrolled": true
   },
   "outputs": [
    {
     "name": "stdout",
     "output_type": "stream",
     "text": [
      "fbi does not contain Kauai, Hawaii\n",
      "fbi does not contain Maui, Hawaii\n",
      "fbi does not contain Carson City, Nevada\n"
     ]
    }
   ],
   "source": [
    "# add missing cities\n",
    "new_data = []\n",
    "for state, cities in missing_places.items():\n",
    "    for city in cities:\n",
    "        try: # check if `fbi` contains that missing place\n",
    "            fbi.loc[state.lower(), (corrections.get(city) or city).lower()]\n",
    "        except KeyError:\n",
    "            print(\"fbi does not contain {city}, {state}\"\n",
    "                  .format(city=city, state=state))\n",
    "            continue\n",
    "        new_data.append(fbi.loc[state.lower(),(corrections.get(city) or city).lower()]\n",
    "                        .reset_index()\n",
    "                        .assign(state=state, city=city))"
   ]
  },
  {
   "cell_type": "code",
   "execution_count": 14,
   "metadata": {
    "scrolled": true
   },
   "outputs": [],
   "source": [
    "data = pd.concat([data, *new_data]) \\\n",
    "           .sort_values(['state', 'city', 'year']) \\\n",
    "           .drop_duplicates(['state', 'city', 'year'], keep='last')"
   ]
  },
  {
   "cell_type": "code",
   "execution_count": 15,
   "metadata": {
    "scrolled": true
   },
   "outputs": [],
   "source": [
    "# add state abbreviations to city names\n",
    "data['city'] = data['city'] + \", \" + data['state'].apply(lambda state: abbreviations[state])\n",
    "data.drop('state', axis=1, inplace=True)"
   ]
  },
  {
   "cell_type": "code",
   "execution_count": 16,
   "metadata": {},
   "outputs": [],
   "source": [
    "# refold multiindex\n",
    "data = data.set_index(['city', 'year'])[col_order]"
   ]
  },
  {
   "cell_type": "code",
   "execution_count": 17,
   "metadata": {},
   "outputs": [],
   "source": [
    "data.to_pickle(\"crime_data.pkl\")"
   ]
  }
 ],
 "metadata": {
  "kernelspec": {
   "display_name": "Python 3",
   "language": "python",
   "name": "python3"
  },
  "language_info": {
   "codemirror_mode": {
    "name": "ipython",
    "version": 3
   },
   "file_extension": ".py",
   "mimetype": "text/x-python",
   "name": "python",
   "nbconvert_exporter": "python",
   "pygments_lexer": "ipython3",
   "version": "3.6.4"
  }
 },
 "nbformat": 4,
 "nbformat_minor": 2
}
