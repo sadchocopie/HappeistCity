{
 "cells": [
  {
   "cell_type": "markdown",
   "metadata": {},
   "source": [
    "# COGS 108 - Project Proposal"
   ]
  },
  {
   "cell_type": "markdown",
   "metadata": {},
   "source": [
    "## Important\n",
    "\n",
    "- Make sure all group members (3-5 people) are listed in the group members section.\n",
    "- ONE, and only one, member of your group should upload this notebook to TritonED. \n",
    "- Each member of the group will receive the same grade on this assignment. \n",
    "- Keep the file name the same: submit the file 'ProjectProposal.ipynb'"
   ]
  },
  {
   "cell_type": "markdown",
   "metadata": {},
   "source": [
    "## Overview"
   ]
  },
  {
   "cell_type": "markdown",
   "metadata": {},
   "source": [
    "Read the project description and detailed instructions for this assignment in the 'ProjectOutline' document."
   ]
  },
  {
   "cell_type": "markdown",
   "metadata": {},
   "source": [
    "## Group Members: Fill in the Student IDs of each group member here\n",
    "\n",
    "Replace the lines below to list each persons full student ID. Add lines as needed for your group size, and make sure each ID is listed on a separate line. \n",
    "\n",
    "- A13530498\n",
    "- A13376931\n",
    "- A12698179\n",
    "- A13798277\n",
    "- A13324426\n",
    "- A12314038\n"
   ]
  },
  {
   "cell_type": "markdown",
   "metadata": {},
   "source": [
    "### Research Question\n",
    "\n",
    "What is your research question? (1-2 sentences)"
   ]
  },
  {
   "cell_type": "markdown",
   "metadata": {},
   "source": [
    "*Is it possible to predict the happiest city in the world? If so, where and how exactly is it the happiest?*"
   ]
  },
  {
   "cell_type": "markdown",
   "metadata": {},
   "source": [
    "### Hypothesis\n",
    "\n",
    "What is your main hypothesis and predictions? (2-3 sentences)"
   ]
  },
  {
   "cell_type": "markdown",
   "metadata": {},
   "source": [
    "*The happiest city in the world will have most of the population with a roof over their heads, a stable job, a low crime rate, and good traffic conditions. We predict that the cities with a good employment rate will see it increase over upcoming years and eventually help residents buy houses and other commodities, reducing the need to commit crimes. This would eventually result in the happiest city in the world.*"
   ]
  },
  {
   "cell_type": "markdown",
   "metadata": {},
   "source": [
    "### Dataset(s)\n",
    "\n",
    "What data will you use to answer your question? Describe the dataset(s) in terms of number of observations, what kind of features it contains, etc. You must use at least one dataset containing at least approximately 1000 observations (if your data are smaller but you feel they are sufficient, email Prof. Voytek). You are welcome (and in fact recommended) to find multiple datasets! If you do so, describe each one, and briefly explain how you will combine them together. "
   ]
  },
  {
   "cell_type": "markdown",
   "metadata": {},
   "source": [
    "*Fill in your dataset information here*\n",
    "\n",
    "(Copy this information for each dataset)\n",
    "- Dataset Name: Bureau of Labor Statistics Data Tools\n",
    "- Link to the dataset:  https://www.bls.gov/data/, https://www.bls.gov/web/metro/laummtrk.htm (cities)\n",
    "- Number of observations: This page contains information from all states and cities in the US. We are interested in the employment rates, but there are also other information that could be useful. 388 metropolitan areas.\n",
    "\n",
    "\n",
    "- Dataset Name: NationMaster Tools\n",
    "- Link to the dataset: http://www.nationmaster.com/\n",
    "- Numer of observations: This website offers many statistics and compares them to all the countries in the world where stats are available. This includes crime statistics as well.\n",
    "\n",
    "\n",
    "- Dataset Name: Redfin Housing Market Data\n",
    "- Link to the dataset: https://www.redfin.com/blog/data-center\n",
    "- Number of observations: All the real estate liting service data from the whole country, separated by cities and states.\n",
    "\n",
    "\n",
    "We plan to analyze each of these datasets to find a correlation between them and design a metric of good living standards per city, eventually comparing these against each other and predict any future data. Essentially, we will combine data to calculate a number that establishes a city's living standards to find the best.\n",
    "\n",
    "1-2 sentences describing the dataset. \n",
    "\n",
    "If you plan to use multiple datasets, add 1-2 sentences about how you plan to combine these datasets."
   ]
  },
  {
   "cell_type": "markdown",
   "metadata": {},
   "source": [
    "### Background and Prior Work\n",
    "\n",
    "Why is this question of interest, what background information led you to your hypothesis, and why is this important?\n",
    "\n",
    "Find some relevant prior work, and reference those sources. Even if you think you have a totally novel question, find the most similar prior work that you can and discuss how it relates to your project. \n",
    "\n",
    "References can be research publications, but they need not be. Blogs, github repositories, company websites, etc., are all viable references if they are relevant to your project.\n",
    "\n",
    "(2-3 paragraphs, including at least 2 references)"
   ]
  },
  {
   "cell_type": "markdown",
   "metadata": {},
   "source": [
    "*Fill in your background and prior work here* \n",
    "\n",
    "This question is of interest to us since we are all from different cities in the world, and we have different stories of our cities. We wanted to see which city in the world would be the best one to live in, and when talking about crime, we realized that money was the main issue. Too little caused crimes, and most of the bad things in the city, so we thought of predicting the income of cities until it led to our current project. It is important since we need to understand why some cities are happier than others, and how is it possible to make all better.\n",
    "\n",
    "References (include links):\n",
    "- 1) Objective Confirmation of Subjective Measures of Human Well-Being\n",
    "-- https://www.cbsnews.com/htdocs/pdf/Oswald-12-18-09.pdf\n",
    "- 2) Can Money Buy You Happiness? \n",
    "-- http://time.com/4856954/can-money-buy-you-happiness/\n",
    "- 3) This Is Why Rich People Aren't Always Happy\n",
    "-- http://time.com/money/4363201/wealth-rich-happiness-people/\n",
    "\n",
    "The first study was suggested to us by Professor Voytek. It essentially analyzes data to find the happiest state in the United States, defining happiness as well-being. It introduces many concepts that help the researchers give a numerical value to well-being as well as calculating said number from datasets. It relates to our project since it accomplishes what we are trying to achieve, albeit in a smaller scale of a single country. It takes many variables into account and discusses any confounding variables that could skew results, giving us a certain guide on how to procceed if issues like this arise.\n",
    "\n",
    "The second one discusses the specifics of the relationship between happiness and money. Since we hypothesize that better employment rates will eventually result in a happier city overall, we need to understand the underlying meaning of happiness in this scenario. How it makes people happier, any consequences of a sudden gain in wealth, and so on. These publications will certainly help us arrive at a conclusion on the definition of happiness in cities when correlated to money directly. While wealth may resolve any problems for cities, it can also backfire in many ways, and we need to consider any possible negative effects of growing employment rates. The third resource can help describe ways people may react, and we can adjust data accordingly and make better predictions.\n"
   ]
  },
  {
   "cell_type": "markdown",
   "metadata": {},
   "source": [
    "### Proposed Methods\n",
    "\n",
    "What methods will you use to analyze your data?\n",
    "\n",
    "- How 'clean' is the data? To the extent that it requires cleaning, how will you do so?\n",
    "- How will you analyze the data? Be as specific as you can. Briefly mention any pre-processing steps that are required for your methods (for example, checking data distributions and performing any transformations that may be required). Include a brief outline of how you will apply your chosen method(s). \n",
    "- What do you plan to report? Briefly mention any key visualizations you plan to create, and/or the kind of results you will be able to report that address your question (this could be, for example, the outcome of some statistical test(s), prediction error on a model, a model fit parameter, etc.).\n",
    "- Include a list of packages you expect to use for you project. If you plan to use packages we have not used in class, add a very brief description about them (a few words is sufficient). "
   ]
  },
  {
   "cell_type": "markdown",
   "metadata": {},
   "source": [
    "*Fill in your proposed methods information here:*\n",
    "\n",
    "*Data Cleaning (2-3 sentences)*\n",
    "\n",
    "We will try to find the cleanest datasets, but since we are looking at many cities specifically, we may have remove unneeded cities from datasets, as we are looking to focus on big metropolitan areas. In the case of future web scraping, we would need to clean the data to avoid any newline characters, for example. Pandas will definitely be useful for this as we have used it before in our assignments for the express purpose of cleaning.\n",
    "\n",
    "*Data Analysis (1-2 paragraphs)*\n",
    "\n",
    "We will analyze the data by classifying and plotting the various metrics we have on hand (e.g. unemployment rate, crime rate, housing, traffic, income) for different cities to make predictions of the happiest city in the world. The preprocessing steps that are required for our method is to analyze the data plots to check whether the data is skewed or whether the graphs contain any extreme outliers, then we will make the decision of whether data transformation is needed to be performed. In addition, if there are missing, we can use replacing the data with mean or dropping the rows of data with missing data to avoid skewing the data. By visualizing each dataset, we will have a better understanding of how each factor contributes to our research question. \n",
    "To apply our chosen method to our data, first we need to check for missing or erroneous data in our datasets. We can then replace or drop the data as needed. Secondly, we can quickly visualize the distributions of our data using histograms and a scatter matrix for multivariate distributions In the case of data being skewed (as is likely for data such as income, which tends to follow a lognormal distribution), we can perform a log10 transformation on the data set to normal it, which is easier to handle in parametric analysis. Next, we will perform correlational statistical tests on the data. Lastly, we will use these observations to make a prediction about the happiest city in the world.\n",
    "\n",
    "*What to report (2-3 sentences)*\n",
    "\n",
    "As our project largely centers around identifying correlations, our analyses will explore linear and higher-order regressions which yield natural visualizations in the form of graphs. Our study also involves univariate statistics for the purpose of comparing cities to each other, which can also be visualized as heatmaps. Correlation coefficients will be our study’s key metrics, while regression models can aid us further in predicting the happiest city.\n",
    "\n",
    "Packages we plan to use:\n",
    "- BeautifulSoup for data collection\n",
    "- Pandas for analysis\n",
    "- Seaborn and Bokeh for visualization"
   ]
  },
  {
   "cell_type": "markdown",
   "metadata": {},
   "source": [
    "### Ethics and Privacy\n",
    "\n",
    "Briefly acknowledge and address any potential issues of ethics and privacy for the proposed project. In particular:\n",
    "- Do you have permission to use this data, for this purpose?\n",
    "- Are there privacy concerns regarding your datasets that you need to deal with, and/or terms of use that you need to comply with?\n",
    "- Are there potential biases in your dataset(s), in terms of who it composes, and how it was collected, that may be problematic in terms of it allowing for equitable analysis? (For example, does your data exclude particular populations, or is it likely to reflect particular human biases in a way that could be a problem?) \n",
    "- Are there any other issues related to your topic area, data, and/or analyses that are potentially problematic in terms of data privacy and equitable impact?\n",
    "- How will you handle any issues you identify?\n",
    "\n",
    "(1-2 paragraphs)\n",
    "\n",
    "We are using some of the data that we find online, which is open to the public. And some of the data we might collect from San Diego Police Department which we have permission from. There are no privacy concerns regarding this data, as it is presented online by the government. Our data composes variety of cities from San Diego and Los Angeles area. We are trying to find data sets that doesn’t exclude any particular populations. At this point we haven’t come across any privacy issues in our data because everything is posted online to the public. However, if we come across some issues, we will try to find a different data set that meets the criteria for this project or try and use the anonymization techniques from A3. \n"
   ]
  },
  {
   "cell_type": "markdown",
   "metadata": {},
   "source": [
    "### Discussion\n",
    "\n",
    "Discuss your project, looking forward to what your results might mean, how they fit it in with what is already known, and what problems you may encounter. \n",
    "\n",
    "In particular:\n",
    "- If your analyses and hypotheses are correct, what will be the contribution of this project to the topic domain? \n",
    "- Alternatively, what will you do if you methods don't work and/or your hypotheses are wrong? \n",
    "- What are the potential pitfalls and potential confounds of your data and/or methods that may cause problems, and/or influence your interpretations?\n",
    "\n",
    "(2-3 paragraphs)"
   ]
  },
  {
   "cell_type": "markdown",
   "metadata": {},
   "source": [
    "*Fill in your discussion information here*\n",
    "\n",
    "If we determine the factors that predict the cities that an aggregate of studies agree to have the highest quality of life, we can provide insight into which social problems are the most pressing, or at least those that will benefit cities given more resources devoted to them. With this new data we may be able to provide possible solutions to problems in the world, and make every city happier.\n",
    "\t\n",
    "    \n",
    "Some pitfalls we may run into are, for example, having to take into account inflation of income and the housing situation throughout the years, specifically during the 2008 financial crisis. Also, cities that are known for a high crime rate may not do so well in this study, and we’d have to understand the underlying reasons that causes this crime. We may need to transform certain data like this to be able to compare with other cities decently.\n"
   ]
  }
 ],
 "metadata": {
  "kernelspec": {
   "display_name": "Python 3",
   "language": "python",
   "name": "python3"
  },
  "language_info": {
   "codemirror_mode": {
    "name": "ipython",
    "version": 3
   },
   "file_extension": ".py",
   "mimetype": "text/x-python",
   "name": "python",
   "nbconvert_exporter": "python",
   "pygments_lexer": "ipython3",
   "version": "3.6.3"
  }
 },
 "nbformat": 4,
 "nbformat_minor": 2
}
